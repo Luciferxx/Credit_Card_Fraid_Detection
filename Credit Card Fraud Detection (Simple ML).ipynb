{
 "cells": [
  {
   "cell_type": "markdown",
   "metadata": {},
   "source": [
    "<h1> Credit Card Fraud Detection Model and EDA with Simple ML Algorithms</h1>"
   ]
  },
  {
   "cell_type": "markdown",
   "metadata": {},
   "source": [
    "## a. Install all the dependencies"
   ]
  },
  {
   "cell_type": "code",
   "execution_count": 1,
   "metadata": {},
   "outputs": [
    {
     "name": "stdout",
     "output_type": "stream",
     "text": [
      "Requirement already satisfied: pickleshare==0.7.5 in g:\\anaconda_software\\lib\\site-packages (from -r requirements1.txt (line 1)) (0.7.5)\n",
      "Requirement already satisfied: requests==2.22.0 in g:\\anaconda_software\\lib\\site-packages (from -r requirements1.txt (line 2)) (2.22.0)\n",
      "Requirement already satisfied: numpy==1.17.4 in g:\\anaconda_software\\lib\\site-packages (from -r requirements1.txt (line 3)) (1.17.4)\n",
      "Requirement already satisfied: pandas==0.25.3 in g:\\anaconda_software\\lib\\site-packages (from -r requirements1.txt (line 4)) (0.25.3)\n",
      "Requirement already satisfied: matplotlib==3.1.3 in g:\\anaconda_software\\lib\\site-packages (from -r requirements1.txt (line 5)) (3.1.3)\n",
      "Requirement already satisfied: sklearn==0.0 in g:\\anaconda_software\\lib\\site-packages (from -r requirements1.txt (line 6)) (0.0)\n",
      "Requirement already satisfied: chardet<3.1.0,>=3.0.2 in g:\\anaconda_software\\lib\\site-packages (from requests==2.22.0->-r requirements1.txt (line 2)) (3.0.4)\n",
      "Requirement already satisfied: idna<2.9,>=2.5 in g:\\anaconda_software\\lib\\site-packages (from requests==2.22.0->-r requirements1.txt (line 2)) (2.8)\n",
      "Requirement already satisfied: urllib3!=1.25.0,!=1.25.1,<1.26,>=1.21.1 in g:\\anaconda_software\\lib\\site-packages (from requests==2.22.0->-r requirements1.txt (line 2)) (1.25.7)\n",
      "Requirement already satisfied: certifi>=2017.4.17 in g:\\anaconda_software\\lib\\site-packages (from requests==2.22.0->-r requirements1.txt (line 2)) (2020.6.20)\n",
      "Requirement already satisfied: python-dateutil>=2.6.1 in g:\\anaconda_software\\lib\\site-packages (from pandas==0.25.3->-r requirements1.txt (line 4)) (2.8.1)\n",
      "Requirement already satisfied: pytz>=2017.2 in g:\\anaconda_software\\lib\\site-packages (from pandas==0.25.3->-r requirements1.txt (line 4)) (2019.3)\n",
      "Requirement already satisfied: cycler>=0.10 in g:\\anaconda_software\\lib\\site-packages (from matplotlib==3.1.3->-r requirements1.txt (line 5)) (0.10.0)\n",
      "Requirement already satisfied: pyparsing!=2.0.4,!=2.1.2,!=2.1.6,>=2.0.1 in g:\\anaconda_software\\lib\\site-packages (from matplotlib==3.1.3->-r requirements1.txt (line 5)) (2.4.5)\n",
      "Requirement already satisfied: kiwisolver>=1.0.1 in g:\\anaconda_software\\lib\\site-packages (from matplotlib==3.1.3->-r requirements1.txt (line 5)) (1.1.0)\n",
      "Requirement already satisfied: scikit-learn in g:\\anaconda_software\\lib\\site-packages (from sklearn==0.0->-r requirements1.txt (line 6)) (0.22)\n",
      "Requirement already satisfied: six>=1.5 in g:\\anaconda_software\\lib\\site-packages (from python-dateutil>=2.6.1->pandas==0.25.3->-r requirements1.txt (line 4)) (1.13.0)\n",
      "Requirement already satisfied: setuptools in g:\\anaconda_software\\lib\\site-packages (from kiwisolver>=1.0.1->matplotlib==3.1.3->-r requirements1.txt (line 5)) (49.1.0)\n",
      "Requirement already satisfied: joblib>=0.11 in g:\\anaconda_software\\lib\\site-packages (from scikit-learn->sklearn==0.0->-r requirements1.txt (line 6)) (0.14.1)\n",
      "Requirement already satisfied: scipy>=0.17.0 in g:\\anaconda_software\\lib\\site-packages (from scikit-learn->sklearn==0.0->-r requirements1.txt (line 6)) (1.4.1)\n"
     ]
    }
   ],
   "source": [
    "!pip install -r requirements1.txt"
   ]
  },
  {
   "cell_type": "markdown",
   "metadata": {},
   "source": [
    "## b. Import all the required Libraries and Packages"
   ]
  },
  {
   "cell_type": "code",
   "execution_count": 2,
   "metadata": {
    "_cell_guid": "79c7e3d0-c299-4dcb-8224-4455121ee9b0",
    "_uuid": "d629ff2d2480ee46fbb7e2d37f6b5fab8052498a"
   },
   "outputs": [],
   "source": [
    "import pandas as pd\n",
    "import numpy as np\n",
    "from sklearn.linear_model import LogisticRegression\n",
    "from sklearn.svm import SVC\n",
    "from sklearn.ensemble import RandomForestClassifier \n",
    "from sklearn.tree import DecisionTreeClassifier\n",
    "from sklearn.model_selection import GridSearchCV, KFold\n",
    "from sklearn.model_selection import cross_val_score\n",
    "from sklearn.metrics import classification_report,accuracy_score,roc_curve,roc_auc_score\n",
    "from sklearn.preprocessing import StandardScaler\n",
    "from sklearn.neighbors import KNeighborsClassifier\n",
    "from sklearn.model_selection import learning_curve, ShuffleSplit, train_test_split,cross_val_predict\n",
    "import matplotlib.pyplot as plt\n",
    "import pickle"
   ]
  },
  {
   "cell_type": "markdown",
   "metadata": {},
   "source": [
    "## c. Pull the LFS elements (CSV file)"
   ]
  },
  {
   "cell_type": "code",
   "execution_count": 4,
   "metadata": {},
   "outputs": [],
   "source": [
    "#Install git lfs if absent"
   ]
  },
  {
   "cell_type": "code",
   "execution_count": 5,
   "metadata": {},
   "outputs": [],
   "source": [
    "# Pull the LFS from git \n",
    "!git lfs pull"
   ]
  },
  {
   "cell_type": "markdown",
   "metadata": {},
   "source": [
    "## d. Read the Credit Card CSV file"
   ]
  },
  {
   "cell_type": "code",
   "execution_count": 6,
   "metadata": {},
   "outputs": [],
   "source": [
    "# Read the dataset\n",
    "data = pd.read_csv(\"creditcard.csv\")"
   ]
  },
  {
   "cell_type": "markdown",
   "metadata": {},
   "source": [
    "### Dataset Info"
   ]
  },
  {
   "cell_type": "code",
   "execution_count": 7,
   "metadata": {
    "tags": []
   },
   "outputs": [
    {
     "name": "stdout",
     "output_type": "stream",
     "text": [
      "<class 'pandas.core.frame.DataFrame'>\n",
      "RangeIndex: 284807 entries, 0 to 284806\n",
      "Data columns (total 31 columns):\n",
      "Time      284807 non-null float64\n",
      "V1        284807 non-null float64\n",
      "V2        284807 non-null float64\n",
      "V3        284807 non-null float64\n",
      "V4        284807 non-null float64\n",
      "V5        284807 non-null float64\n",
      "V6        284807 non-null float64\n",
      "V7        284807 non-null float64\n",
      "V8        284807 non-null float64\n",
      "V9        284807 non-null float64\n",
      "V10       284807 non-null float64\n",
      "V11       284807 non-null float64\n",
      "V12       284807 non-null float64\n",
      "V13       284807 non-null float64\n",
      "V14       284807 non-null float64\n",
      "V15       284807 non-null float64\n",
      "V16       284807 non-null float64\n",
      "V17       284807 non-null float64\n",
      "V18       284807 non-null float64\n",
      "V19       284807 non-null float64\n",
      "V20       284807 non-null float64\n",
      "V21       284807 non-null float64\n",
      "V22       284807 non-null float64\n",
      "V23       284807 non-null float64\n",
      "V24       284807 non-null float64\n",
      "V25       284807 non-null float64\n",
      "V26       284807 non-null float64\n",
      "V27       284807 non-null float64\n",
      "V28       284807 non-null float64\n",
      "Amount    284807 non-null float64\n",
      "Class     284807 non-null int64\n",
      "dtypes: float64(30), int64(1)\n",
      "memory usage: 67.4 MB\n"
     ]
    }
   ],
   "source": [
    "data.info()"
   ]
  },
  {
   "cell_type": "markdown",
   "metadata": {},
   "source": [
    "# e. Data Analysis"
   ]
  },
  {
   "cell_type": "markdown",
   "metadata": {},
   "source": [
    "### e.1 Removing Unwanted Columns"
   ]
  },
  {
   "cell_type": "code",
   "execution_count": 8,
   "metadata": {},
   "outputs": [],
   "source": [
    "# Removing the time column since it would not help in model training\n",
    "data.drop([\"Time\"],axis=1,inplace = True)"
   ]
  },
  {
   "cell_type": "markdown",
   "metadata": {},
   "source": [
    "### e.2 Checking for Null Values"
   ]
  },
  {
   "cell_type": "code",
   "execution_count": 9,
   "metadata": {},
   "outputs": [
    {
     "data": {
      "text/plain": [
       "V1        0\n",
       "V2        0\n",
       "V3        0\n",
       "V4        0\n",
       "V5        0\n",
       "V6        0\n",
       "V7        0\n",
       "V8        0\n",
       "V9        0\n",
       "V10       0\n",
       "V11       0\n",
       "V12       0\n",
       "V13       0\n",
       "V14       0\n",
       "V15       0\n",
       "V16       0\n",
       "V17       0\n",
       "V18       0\n",
       "V19       0\n",
       "V20       0\n",
       "V21       0\n",
       "V22       0\n",
       "V23       0\n",
       "V24       0\n",
       "V25       0\n",
       "V26       0\n",
       "V27       0\n",
       "V28       0\n",
       "Amount    0\n",
       "Class     0\n",
       "dtype: int64"
      ]
     },
     "execution_count": 9,
     "metadata": {},
     "output_type": "execute_result"
    }
   ],
   "source": [
    "# Lets check the missing values in case any\n",
    "data.isnull().sum()"
   ]
  },
  {
   "cell_type": "markdown",
   "metadata": {},
   "source": [
    "### e.3 Correlation of columns w.r.t. every column"
   ]
  },
  {
   "cell_type": "code",
   "execution_count": 10,
   "metadata": {},
   "outputs": [],
   "source": [
    "def plot_corr(df):\n",
    "    corr = df.corr()\n",
    "    fig,ax = plt.subplots(figsize = (12,12))\n",
    "    ax.matshow(corr)\n",
    "    plt.xticks(range(len(corr.columns)),corr.columns)\n",
    "    plt.yticks(range(len(corr.columns)),corr.columns)\n",
    "    plt.show()"
   ]
  },
  {
   "cell_type": "code",
   "execution_count": 11,
   "metadata": {},
   "outputs": [
    {
     "data": {
      "image/png": "[encoded data removed]",
      "text/plain": [
       "<Figure size 864x864 with 1 Axes>"
      ]
     },
     "metadata": {
      "needs_background": "light"
     },
     "output_type": "display_data"
    }
   ],
   "source": [
    "# Vizualizing correletaions by plotting correlation matrix\n",
    "plot_corr(data)\n"
   ]
  },
  {
   "cell_type": "markdown",
   "metadata": {},
   "source": [
    "### e.4 Correlation elements w.r.t the target Column"
   ]
  },
  {
   "cell_type": "code",
   "execution_count": 12,
   "metadata": {},
   "outputs": [
    {
     "data": {
      "text/plain": [
       "V1       -0.101347\n",
       "V2        0.091289\n",
       "V3       -0.192961\n",
       "V4        0.133447\n",
       "V5       -0.094974\n",
       "V6       -0.043643\n",
       "V7       -0.187257\n",
       "V8        0.019875\n",
       "V9       -0.097733\n",
       "V10      -0.216883\n",
       "V11       0.154876\n",
       "V12      -0.260593\n",
       "V13      -0.004570\n",
       "V14      -0.302544\n",
       "V15      -0.004223\n",
       "V16      -0.196539\n",
       "V17      -0.326481\n",
       "V18      -0.111485\n",
       "V19       0.034783\n",
       "V20       0.020090\n",
       "V21       0.040413\n",
       "V22       0.000805\n",
       "V23      -0.002685\n",
       "V24      -0.007221\n",
       "V25       0.003308\n",
       "V26       0.004455\n",
       "V27       0.017580\n",
       "V28       0.009536\n",
       "Amount    0.005632\n",
       "Class     1.000000\n",
       "Name: Class, dtype: float64"
      ]
     },
     "execution_count": 12,
     "metadata": {},
     "output_type": "execute_result"
    }
   ],
   "source": [
    "corr = data.corr()\n",
    "corr[\"Class\"]"
   ]
  },
  {
   "cell_type": "markdown",
   "metadata": {},
   "source": [
    "### e.5 Removing highy negative and highly Positive Correlated Columns"
   ]
  },
  {
   "cell_type": "code",
   "execution_count": 13,
   "metadata": {},
   "outputs": [],
   "source": [
    "# These are features either are too negatively correlated with the target or too much positive with target(may surpress other features)\n",
    "\n",
    "COL=[\"V3\",\"V10\",\"V12\",\"V14\",\"V16\",\"V17\",\"V18\"]\n",
    "data.drop(COL,axis=1,inplace=True)"
   ]
  },
  {
   "cell_type": "markdown",
   "metadata": {},
   "source": [
    "### e.6 Scalling the values for better modelling (Normalizing)"
   ]
  },
  {
   "cell_type": "code",
   "execution_count": 14,
   "metadata": {},
   "outputs": [],
   "source": [
    "# Lets normalise the amount column\n",
    "# Need not to perform scaling of other features since all values have been scaled because of the PCA applied before the data was released\n",
    "\n",
    "data['normAmount'] = StandardScaler().fit_transform(data['Amount'].values.reshape(-1, 1))\n",
    "data = data.drop(['Amount'],axis=1)"
   ]
  },
  {
   "cell_type": "markdown",
   "metadata": {},
   "source": [
    "### e.7 Checking Class Distribution"
   ]
  },
  {
   "cell_type": "code",
   "execution_count": 16,
   "metadata": {},
   "outputs": [
    {
     "data": {
      "text/plain": [
       "0    284315\n",
       "1       492\n",
       "Name: Class, dtype: int64"
      ]
     },
     "execution_count": 16,
     "metadata": {},
     "output_type": "execute_result"
    }
   ],
   "source": [
    "# Checking the ratio of classes with respect to each other \n",
    "data[\"Class\"].value_counts()"
   ]
  },
  {
   "cell_type": "markdown",
   "metadata": {},
   "source": [
    "### e.8 Equalizing the Class Distribution to avoid creating Skewed class model"
   ]
  },
  {
   "cell_type": "code",
   "execution_count": 17,
   "metadata": {},
   "outputs": [
    {
     "data": {
      "text/html": [
       "<div>\n",
       "<style scoped>\n",
       "    .dataframe tbody tr th:only-of-type {\n",
       "        vertical-align: middle;\n",
       "    }\n",
       "\n",
       "    .dataframe tbody tr th {\n",
       "        vertical-align: top;\n",
       "    }\n",
       "\n",
       "    .dataframe thead th {\n",
       "        text-align: right;\n",
       "    }\n",
       "</style>\n",
       "<table border=\"1\" class=\"dataframe\">\n",
       "  <thead>\n",
       "    <tr style=\"text-align: right;\">\n",
       "      <th></th>\n",
       "      <th>V1</th>\n",
       "      <th>V2</th>\n",
       "      <th>V4</th>\n",
       "      <th>V5</th>\n",
       "      <th>V6</th>\n",
       "      <th>V7</th>\n",
       "      <th>V8</th>\n",
       "      <th>V9</th>\n",
       "      <th>V11</th>\n",
       "      <th>V13</th>\n",
       "      <th>...</th>\n",
       "      <th>V21</th>\n",
       "      <th>V22</th>\n",
       "      <th>V23</th>\n",
       "      <th>V24</th>\n",
       "      <th>V25</th>\n",
       "      <th>V26</th>\n",
       "      <th>V27</th>\n",
       "      <th>V28</th>\n",
       "      <th>Class</th>\n",
       "      <th>normAmount</th>\n",
       "    </tr>\n",
       "  </thead>\n",
       "  <tbody>\n",
       "    <tr>\n",
       "      <th>95135</th>\n",
       "      <td>-3.752122</td>\n",
       "      <td>3.047004</td>\n",
       "      <td>1.134186</td>\n",
       "      <td>-1.673215</td>\n",
       "      <td>1.591196</td>\n",
       "      <td>-2.213236</td>\n",
       "      <td>3.194713</td>\n",
       "      <td>0.193793</td>\n",
       "      <td>-1.250883</td>\n",
       "      <td>1.445510</td>\n",
       "      <td>...</td>\n",
       "      <td>-0.301557</td>\n",
       "      <td>-0.705405</td>\n",
       "      <td>0.033526</td>\n",
       "      <td>-1.328491</td>\n",
       "      <td>0.527516</td>\n",
       "      <td>-0.272297</td>\n",
       "      <td>0.231970</td>\n",
       "      <td>0.072393</td>\n",
       "      <td>0</td>\n",
       "      <td>-0.317127</td>\n",
       "    </tr>\n",
       "    <tr>\n",
       "      <th>247995</th>\n",
       "      <td>1.146259</td>\n",
       "      <td>1.403458</td>\n",
       "      <td>2.660107</td>\n",
       "      <td>-0.323217</td>\n",
       "      <td>-1.836071</td>\n",
       "      <td>-1.623740</td>\n",
       "      <td>0.259562</td>\n",
       "      <td>-1.132044</td>\n",
       "      <td>3.646478</td>\n",
       "      <td>-0.647501</td>\n",
       "      <td>...</td>\n",
       "      <td>0.564450</td>\n",
       "      <td>0.445744</td>\n",
       "      <td>-0.141136</td>\n",
       "      <td>-0.265517</td>\n",
       "      <td>0.362260</td>\n",
       "      <td>-0.416062</td>\n",
       "      <td>0.507370</td>\n",
       "      <td>0.243744</td>\n",
       "      <td>1</td>\n",
       "      <td>-0.147848</td>\n",
       "    </tr>\n",
       "    <tr>\n",
       "      <th>245088</th>\n",
       "      <td>-1.769102</td>\n",
       "      <td>-0.571667</td>\n",
       "      <td>-0.628063</td>\n",
       "      <td>0.004222</td>\n",
       "      <td>-0.329594</td>\n",
       "      <td>-0.066065</td>\n",
       "      <td>0.681990</td>\n",
       "      <td>0.293276</td>\n",
       "      <td>-1.720258</td>\n",
       "      <td>-1.380995</td>\n",
       "      <td>...</td>\n",
       "      <td>0.358729</td>\n",
       "      <td>0.345879</td>\n",
       "      <td>0.145703</td>\n",
       "      <td>0.469233</td>\n",
       "      <td>-0.036766</td>\n",
       "      <td>0.653551</td>\n",
       "      <td>0.139899</td>\n",
       "      <td>-0.014254</td>\n",
       "      <td>0</td>\n",
       "      <td>0.278468</td>\n",
       "    </tr>\n",
       "    <tr>\n",
       "      <th>279863</th>\n",
       "      <td>-1.927883</td>\n",
       "      <td>1.125653</td>\n",
       "      <td>1.749293</td>\n",
       "      <td>-1.566487</td>\n",
       "      <td>-2.010494</td>\n",
       "      <td>-0.882850</td>\n",
       "      <td>0.697211</td>\n",
       "      <td>-2.064945</td>\n",
       "      <td>2.115795</td>\n",
       "      <td>-1.235123</td>\n",
       "      <td>...</td>\n",
       "      <td>0.778584</td>\n",
       "      <td>-0.319189</td>\n",
       "      <td>0.639419</td>\n",
       "      <td>-0.294885</td>\n",
       "      <td>0.537503</td>\n",
       "      <td>0.788395</td>\n",
       "      <td>0.292680</td>\n",
       "      <td>0.147968</td>\n",
       "      <td>1</td>\n",
       "      <td>1.206024</td>\n",
       "    </tr>\n",
       "    <tr>\n",
       "      <th>15506</th>\n",
       "      <td>-21.885434</td>\n",
       "      <td>12.930505</td>\n",
       "      <td>6.203314</td>\n",
       "      <td>-16.466099</td>\n",
       "      <td>-4.459842</td>\n",
       "      <td>-16.519836</td>\n",
       "      <td>14.535565</td>\n",
       "      <td>-3.897022</td>\n",
       "      <td>5.375434</td>\n",
       "      <td>0.461808</td>\n",
       "      <td>...</td>\n",
       "      <td>1.762232</td>\n",
       "      <td>-1.579055</td>\n",
       "      <td>-0.951043</td>\n",
       "      <td>0.134565</td>\n",
       "      <td>1.507110</td>\n",
       "      <td>-0.222671</td>\n",
       "      <td>1.527655</td>\n",
       "      <td>0.453699</td>\n",
       "      <td>1</td>\n",
       "      <td>0.046539</td>\n",
       "    </tr>\n",
       "  </tbody>\n",
       "</table>\n",
       "<p>5 rows × 23 columns</p>\n",
       "</div>"
      ],
      "text/plain": [
       "               V1         V2        V4         V5        V6         V7  \\\n",
       "95135   -3.752122   3.047004  1.134186  -1.673215  1.591196  -2.213236   \n",
       "247995   1.146259   1.403458  2.660107  -0.323217 -1.836071  -1.623740   \n",
       "245088  -1.769102  -0.571667 -0.628063   0.004222 -0.329594  -0.066065   \n",
       "279863  -1.927883   1.125653  1.749293  -1.566487 -2.010494  -0.882850   \n",
       "15506  -21.885434  12.930505  6.203314 -16.466099 -4.459842 -16.519836   \n",
       "\n",
       "               V8        V9       V11       V13  ...       V21       V22  \\\n",
       "95135    3.194713  0.193793 -1.250883  1.445510  ... -0.301557 -0.705405   \n",
       "247995   0.259562 -1.132044  3.646478 -0.647501  ...  0.564450  0.445744   \n",
       "245088   0.681990  0.293276 -1.720258 -1.380995  ...  0.358729  0.345879   \n",
       "279863   0.697211 -2.064945  2.115795 -1.235123  ...  0.778584 -0.319189   \n",
       "15506   14.535565 -3.897022  5.375434  0.461808  ...  1.762232 -1.579055   \n",
       "\n",
       "             V23       V24       V25       V26       V27       V28  Class  \\\n",
       "95135   0.033526 -1.328491  0.527516 -0.272297  0.231970  0.072393      0   \n",
       "247995 -0.141136 -0.265517  0.362260 -0.416062  0.507370  0.243744      1   \n",
       "245088  0.145703  0.469233 -0.036766  0.653551  0.139899 -0.014254      0   \n",
       "279863  0.639419 -0.294885  0.537503  0.788395  0.292680  0.147968      1   \n",
       "15506  -0.951043  0.134565  1.507110 -0.222671  1.527655  0.453699      1   \n",
       "\n",
       "        normAmount  \n",
       "95135    -0.317127  \n",
       "247995   -0.147848  \n",
       "245088    0.278468  \n",
       "279863    1.206024  \n",
       "15506     0.046539  \n",
       "\n",
       "[5 rows x 23 columns]"
      ]
     },
     "execution_count": 17,
     "metadata": {},
     "output_type": "execute_result"
    }
   ],
   "source": [
    "# Since our classes are highly skewed we should make them equivalent in order to have a normal distribution of the classes.\n",
    "# Lets shuffle the data before creating the subsamples\n",
    "\n",
    "df = data.sample(frac=1)\n",
    "\n",
    "# Equalizing no. of Fraud rows data with no of Non-Fraud data rows (492 rows each as in the dataset).\n",
    "fraud_df = df.loc[df['Class'] == 1]\n",
    "non_fraud_df = df.loc[df['Class'] == 0][:492]\n",
    "\n",
    "# Concating equal no of Fraud data and Non-Fraud Data into a new dataframe\n",
    "normal_distributed_df = pd.concat([fraud_df, non_fraud_df])\n",
    "\n",
    "# Shuffle dataframe rows\n",
    "new_df = normal_distributed_df.sample(frac=1, random_state=42)\n",
    "\n",
    "new_df.head()"
   ]
  },
  {
   "cell_type": "markdown",
   "metadata": {},
   "source": [
    "### e.9 Splitting the data (Features and Target) into Training and Testing sets"
   ]
  },
  {
   "cell_type": "code",
   "execution_count": 18,
   "metadata": {},
   "outputs": [],
   "source": [
    "# Lets split the data into features (X) and target (Y)\n",
    "features = new_df.drop([\"Class\"],axis =1)\n",
    "target = new_df[\"Class\"]\n",
    "\n",
    "\n",
    "# Splitting the data into train and test\n",
    "X_train,X_test, Y_train,Y_test = train_test_split(features, target, test_size = .2, random_state =5)"
   ]
  },
  {
   "cell_type": "markdown",
   "metadata": {},
   "source": [
    "<h1> f. GRID SEARCH CV </h1>\n",
    "Lets apply the grid search in order to obtain the best hyperparamters for our models"
   ]
  },
  {
   "cell_type": "code",
   "execution_count": 19,
   "metadata": {
    "tags": []
   },
   "outputs": [],
   "source": [
    "class GridSearchModel:\n",
    "    def __init__(self):\n",
    "        print(\"GridSearchModel Class Initialized\\n\\n\")\n",
    "        \n",
    "    def fit_log_reg(self,params,X,Y):\n",
    "        \"\"\"Logistic Regression\"\"\"\n",
    "        grid_log_reg = GridSearchCV(LogisticRegression(),params)\n",
    "        grid_log_reg.fit(X,Y)\n",
    "        # Logistic Regression with the best parameters\n",
    "        grid_log_reg_best_est = grid_log_reg.best_estimator_\n",
    "        print(\"{}\\n\".format(grid_log_reg_best_est))\n",
    "        return grid_log_reg_best_est\n",
    "    \n",
    "    def fit_knn(self,params,X,Y):\n",
    "        \"\"\"K-Nearest Neighbors\"\"\"\n",
    "        grid_knears = GridSearchCV(KNeighborsClassifier(),params)\n",
    "        grid_knears.fit(X,Y)\n",
    "        # KNears best estimator\n",
    "        grid_knears_best_est = grid_knears.best_estimator_\n",
    "        print(\"{}\\n\".format(grid_knears_best_est))\n",
    "        return grid_knears_best_est\n",
    "\n",
    "    def fit_svc(self,params,X,Y):\n",
    "        \"\"\"Support Vector Classifier\"\"\"\n",
    "        grid_svc = GridSearchCV(SVC(), params)\n",
    "        grid_svc.fit(X,Y)\n",
    "        # SVC best estimator\n",
    "        grid_svc_best_est = grid_svc.best_estimator_\n",
    "        print(\"{}\\n\".format(grid_svc_best_est))\n",
    "        return grid_svc_best_est\n",
    "\n",
    "\n",
    "    def fit_dec_tree(self,params,X,Y):\n",
    "        \"\"\"Decision Tree Classifier\"\"\"\n",
    "        grid_tree = GridSearchCV(DecisionTreeClassifier(), params)\n",
    "        grid_tree.fit(X,Y)\n",
    "        # Decision Tree best estimator\n",
    "        grid_tree_best_est = grid_tree.best_estimator_\n",
    "        print(\"{}\\n\".format(grid_tree_best_est))\n",
    "        return grid_tree_best_est"
   ]
  },
  {
   "cell_type": "markdown",
   "metadata": {},
   "source": [
    "<h1> g. Fitting Grid Search on our models </h1>"
   ]
  },
  {
   "cell_type": "code",
   "execution_count": 21,
   "metadata": {
    "tags": []
   },
   "outputs": [
    {
     "name": "stdout",
     "output_type": "stream",
     "text": [
      "GridSearchModel Class Initialized\n",
      "\n",
      "\n",
      "LogisticRegression(C=1, class_weight=None, dual=False, fit_intercept=True,\n",
      "                   intercept_scaling=1, l1_ratio=None, max_iter=100,\n",
      "                   multi_class='auto', n_jobs=None, penalty='l2',\n",
      "                   random_state=None, solver='liblinear', tol=0.0001, verbose=0,\n",
      "                   warm_start=False)\n",
      "\n",
      "KNeighborsClassifier(algorithm='auto', leaf_size=30, metric='minkowski',\n",
      "                     metric_params=None, n_jobs=None, n_neighbors=3, p=2,\n",
      "                     weights='uniform')\n",
      "\n",
      "SVC(C=0.7, break_ties=False, cache_size=200, class_weight=None, coef0=0.0,\n",
      "    decision_function_shape='ovr', degree=3, gamma='scale', kernel='linear',\n",
      "    max_iter=-1, probability=False, random_state=None, shrinking=True,\n",
      "    tol=0.001, verbose=False)\n",
      "\n",
      "DecisionTreeClassifier(ccp_alpha=0.0, class_weight=None, criterion='gini',\n",
      "                       max_depth=3, max_features=None, max_leaf_nodes=None,\n",
      "                       min_impurity_decrease=0.0, min_impurity_split=None,\n",
      "                       min_samples_leaf=5, min_samples_split=2,\n",
      "                       min_weight_fraction_leaf=0.0, presort='deprecated',\n",
      "                       random_state=None, splitter='best')\n",
      "\n"
     ]
    }
   ],
   "source": [
    "#Instance of GridSearchModel\n",
    "gridModel = GridSearchModel()\n",
    "\n",
    "\"\"\"Logistic Regression\"\"\"\n",
    "# Solver is liblinear since its supports both l1 and l2 penalities\n",
    "log_reg_params = {\"penalty\": ['l1', 'l2'], 'C': [0.001, 0.01, 0.1, 1, 10, 100, 1000],\"solver\" :['liblinear']}\n",
    "log_reg_best_est = gridModel.fit_log_reg(log_reg_params,X_train,Y_train)\n",
    "\n",
    "\n",
    "\"\"\"K-Nearest Neighbors\"\"\"\n",
    "knears_params = {\"n_neighbors\": list(range(2,5,1)), 'algorithm': ['auto', 'ball_tree', 'kd_tree', 'brute']}\n",
    "knears_best_est = gridModel.fit_knn(knears_params,X_train,Y_train)\n",
    "\n",
    "\n",
    "\"\"\"Support Vector Classifier\"\"\"\n",
    "svc_params = {'C': [0.5, 0.7, 0.9, 1], 'kernel': ['rbf', 'poly', 'sigmoid', 'linear']}\n",
    "svc_best_est = gridModel.fit_svc(svc_params,X_train,Y_train)\n",
    "\n",
    "\n",
    "\"\"\"DecisionTree Classifier\"\"\"\n",
    "tree_params = {\"criterion\": [\"gini\", \"entropy\"], \"max_depth\": list(range(2,4,1)),\"min_samples_leaf\": list(range(5,7,1))}\n",
    "dec_tree_best_est = gridModel.fit_dec_tree(tree_params,X_train,Y_train)"
   ]
  },
  {
   "cell_type": "markdown",
   "metadata": {},
   "source": [
    "<h1>h. Initializing K-Fold for training our models</h1>\n",
    "We would be utilizing cross validation score in order to get a much better result"
   ]
  },
  {
   "cell_type": "code",
   "execution_count": 22,
   "metadata": {},
   "outputs": [],
   "source": [
    "# Initializing K-Fold for training all specified models\n",
    "k = KFold(n_splits = 5)\n",
    "\n",
    "# Specified Classifiers\n",
    "classifiers = {\n",
    "    'Logistic Regression':log_reg_best_est,\n",
    "    'Support Vector Machine' : svc_best_est,\n",
    "    'Random Forest Classifier': RandomForestClassifier(),\n",
    "    'Decision Tree Algorithm':dec_tree_best_est,\n",
    "    'KNN':knears_best_est\n",
    "}"
   ]
  },
  {
   "cell_type": "markdown",
   "metadata": {},
   "source": [
    "<h1>i. Model Class with utilities </h1>"
   ]
  },
  {
   "cell_type": "code",
   "execution_count": 25,
   "metadata": {},
   "outputs": [],
   "source": [
    "class ML_Models:\n",
    "    def __init__(self):\n",
    "        print(\"Initialized ML_Models class\\n\\n\")\n",
    "\n",
    "    def train(self,classifiers,train_data =(X_train,Y_train),val_data=(X_test,Y_test)):\n",
    "        for i in classifiers:\n",
    "            print('-'*100)\n",
    "            print(i)\n",
    "            print('-'*100)\n",
    "            classifiers[i].fit(X_train,Y_train.values.ravel())\n",
    "            prediction = classifiers[i].predict(X_test)\n",
    "            print('Classification Report')        \n",
    "            cr = classification_report(Y_test,prediction,output_dict=True)\n",
    "            print(pd.DataFrame(cr).transpose())\n",
    "            print('='*100)\n",
    "            accuracy = accuracy_score(Y_test.values.ravel(),prediction)\n",
    "            print('Accuracy Score :  ',accuracy)\n",
    "            print('='*100)\n",
    "            print('Cross Validation Score')\n",
    "            cv=cross_val_score(classifiers[i],X_train,Y_train,cv=k,scoring='accuracy')\n",
    "            print(cv.mean())\n",
    "            print('-'*100)\n",
    "            print(\"\\n\\n\")\n",
    "\n",
    "    def plot_learning_curve(self,estimator1,estimator2,estimator3,estimator4,X,y,ylim=None,cv=None,n_jobs=1,train_sizes=None):\n",
    "        #Subplots for each eastimator\n",
    "        f, ((ax1, ax2), (ax3, ax4)) = plt.subplots(2,2, figsize=(20,14), sharey=True)\n",
    "\n",
    "        if ylim is not None:\n",
    "            plt.ylim(*ylim)\n",
    "\n",
    "        # First Estimator\n",
    "        train_sizes, train_scores, test_scores = learning_curve(estimator1, X, y, cv=cv, n_jobs=n_jobs, train_sizes=train_sizes)\n",
    "        train_scores_mean = np.mean(train_scores, axis=1)\n",
    "        train_scores_std = np.std(train_scores, axis=1)\n",
    "        test_scores_mean = np.mean(test_scores, axis=1)\n",
    "        test_scores_std = np.std(test_scores, axis=1)\n",
    "        ax1.fill_between(train_sizes, train_scores_mean - train_scores_std,\n",
    "                        train_scores_mean + train_scores_std, alpha=0.1,\n",
    "                        color=\"#ff9124\")\n",
    "        ax1.fill_between(train_sizes, test_scores_mean - test_scores_std,\n",
    "                        test_scores_mean + test_scores_std, alpha=0.1, color=\"#2492ff\")\n",
    "        ax1.plot(train_sizes, train_scores_mean, 'o-', color=\"#ff9124\",\n",
    "                label=\"Training score\")\n",
    "        ax1.plot(train_sizes, test_scores_mean, 'o-', color=\"#2492ff\",\n",
    "                label=\"Cross-validation score\")\n",
    "        ax1.set_title(\"Logistic Regression Learning Curve\", fontsize=14)\n",
    "        ax1.set_xlabel('Training size (m)')\n",
    "        ax1.set_ylabel('Score')\n",
    "        ax1.grid(True)\n",
    "        ax1.legend(loc=\"best\")\n",
    "        \n",
    "        # Second Estimator \n",
    "        train_sizes, train_scores, test_scores = learning_curve(\n",
    "            estimator2, X, y, cv=cv, n_jobs=n_jobs, train_sizes=train_sizes)\n",
    "        train_scores_mean = np.mean(train_scores, axis=1)\n",
    "        train_scores_std = np.std(train_scores, axis=1)\n",
    "        test_scores_mean = np.mean(test_scores, axis=1)\n",
    "        test_scores_std = np.std(test_scores, axis=1)\n",
    "        ax2.fill_between(train_sizes, train_scores_mean - train_scores_std,\n",
    "                        train_scores_mean + train_scores_std, alpha=0.1,\n",
    "                        color=\"#ff9124\")\n",
    "        ax2.fill_between(train_sizes, test_scores_mean - test_scores_std,\n",
    "                        test_scores_mean + test_scores_std, alpha=0.1, color=\"#2492ff\")\n",
    "        ax2.plot(train_sizes, train_scores_mean, 'o-', color=\"#ff9124\",\n",
    "                label=\"Training score\")\n",
    "        ax2.plot(train_sizes, test_scores_mean, 'o-', color=\"#2492ff\",\n",
    "                label=\"Cross-validation score\")\n",
    "        ax2.set_title(\"Knears Neighbors Learning Curve\", fontsize=14)\n",
    "        ax2.set_xlabel('Training size (m)')\n",
    "        ax2.set_ylabel('Score')\n",
    "        ax2.grid(True)\n",
    "        ax2.legend(loc=\"best\")\n",
    "        \n",
    "        # Third Estimator\n",
    "        train_sizes, train_scores, test_scores = learning_curve(\n",
    "            estimator3, X, y, cv=cv, n_jobs=n_jobs, train_sizes=train_sizes)\n",
    "        train_scores_mean = np.mean(train_scores, axis=1)\n",
    "        train_scores_std = np.std(train_scores, axis=1)\n",
    "        test_scores_mean = np.mean(test_scores, axis=1)\n",
    "        test_scores_std = np.std(test_scores, axis=1)\n",
    "        ax3.fill_between(train_sizes, train_scores_mean - train_scores_std,\n",
    "                        train_scores_mean + train_scores_std, alpha=0.1,\n",
    "                        color=\"#ff9124\")\n",
    "        ax3.fill_between(train_sizes, test_scores_mean - test_scores_std,\n",
    "                        test_scores_mean + test_scores_std, alpha=0.1, color=\"#2492ff\")\n",
    "        ax3.plot(train_sizes, train_scores_mean, 'o-', color=\"#ff9124\",\n",
    "                label=\"Training score\")\n",
    "        ax3.plot(train_sizes, test_scores_mean, 'o-', color=\"#2492ff\",\n",
    "                label=\"Cross-validation score\")\n",
    "        ax3.set_title(\"Support Vector Classifier \\n Learning Curve\", fontsize=14)\n",
    "        ax3.set_xlabel('Training size (m)')\n",
    "        ax3.set_ylabel('Score')\n",
    "        ax3.grid(True)\n",
    "        ax3.legend(loc=\"best\")\n",
    "        \n",
    "        # Fourth Estimator\n",
    "        train_sizes, train_scores, test_scores = learning_curve(\n",
    "            estimator4, X, y, cv=cv, n_jobs=n_jobs, train_sizes=train_sizes)\n",
    "        train_scores_mean = np.mean(train_scores, axis=1)\n",
    "        train_scores_std = np.std(train_scores, axis=1)\n",
    "        test_scores_mean = np.mean(test_scores, axis=1)\n",
    "        test_scores_std = np.std(test_scores, axis=1)\n",
    "        ax4.fill_between(train_sizes, train_scores_mean - train_scores_std,\n",
    "                        train_scores_mean + train_scores_std, alpha=0.1,\n",
    "                        color=\"#ff9124\")\n",
    "        ax4.fill_between(train_sizes, test_scores_mean - test_scores_std,\n",
    "                        test_scores_mean + test_scores_std, alpha=0.1, color=\"#2492ff\")\n",
    "        ax4.plot(train_sizes, train_scores_mean, 'o-', color=\"#ff9124\",\n",
    "                label=\"Training score\")\n",
    "        ax4.plot(train_sizes, test_scores_mean, 'o-', color=\"#2492ff\",\n",
    "                label=\"Cross-validation score\")\n",
    "        ax4.set_title(\"Decision Tree Classifier \\n Learning Curve\", fontsize=14)\n",
    "        ax4.set_xlabel('Training size (m)')\n",
    "        ax4.set_ylabel('Score')\n",
    "        ax4.grid(True)\n",
    "        ax4.legend(loc=\"best\")\n",
    "\n",
    "    def roc_score(self,classifier,X,Y,cv,method):\n",
    "        # Create a DataFrame with all the scores and the classifiers names.\n",
    "        log_reg_pred = cross_val_predict(classifier[\"Logistic Regression\"], X, Y, cv=cv,method =method) #method=\"decision_function\"\n",
    "        knears_pred = cross_val_predict(classifier[\"KNN\"], X, Y, cv=cv,method =method)\n",
    "        svc_pred = cross_val_predict(classifier[\"Support Vector Machine\"], X, Y, cv=cv,method =method)  #method=\"decision_function\"\n",
    "        tree_pred = cross_val_predict(classifier[\"Decision Tree Algorithm\"], X, Y, cv=cv,method =method)\n",
    "\n",
    "\n",
    "        print('Logistic Regression: ', roc_auc_score(Y, log_reg_pred))\n",
    "        print('KNears Neighbors: ', roc_auc_score(Y, knears_pred))\n",
    "        print('Support Vector Classifier: ', roc_auc_score(Y, svc_pred))\n",
    "        print('Decision Tree Classifier: ', roc_auc_score(Y, tree_pred))\n",
    "    \n",
    "    def pickleData(self,filename,data):\n",
    "        pickle_out = open(filename,\"wb\")\n",
    "        pickle.dump(data,pickle_out)\n",
    "        pickle_out.close()\n"
   ]
  },
  {
   "cell_type": "markdown",
   "metadata": {},
   "source": [
    "<h1> j. Let's Train our models </h1>"
   ]
  },
  {
   "cell_type": "code",
   "execution_count": 27,
   "metadata": {},
   "outputs": [
    {
     "name": "stdout",
     "output_type": "stream",
     "text": [
      "Initialized ML_Models class\n",
      "\n",
      "\n",
      "----------------------------------------------------------------------------------------------------\n",
      "Logistic Regression\n",
      "----------------------------------------------------------------------------------------------------\n",
      "Classification Report\n",
      "              precision    recall  f1-score     support\n",
      "0              0.932692  0.970000  0.950980  100.000000\n",
      "1              0.967742  0.927835  0.947368   97.000000\n",
      "accuracy       0.949239  0.949239  0.949239    0.949239\n",
      "macro avg      0.950217  0.948918  0.949174  197.000000\n",
      "weighted avg   0.949950  0.949239  0.949202  197.000000\n",
      "====================================================================================================\n",
      "Accuracy Score :   0.949238578680203\n",
      "====================================================================================================\n",
      "Cross Validation Score\n",
      "0.9199225993711199\n",
      "----------------------------------------------------------------------------------------------------\n",
      "\n",
      "\n",
      "\n",
      "----------------------------------------------------------------------------------------------------\n",
      "Support Vector Machine\n",
      "----------------------------------------------------------------------------------------------------\n",
      "Classification Report\n",
      "              precision    recall  f1-score     support\n",
      "0              0.924528  0.980000  0.951456  100.000000\n",
      "1              0.978022  0.917526  0.946809   97.000000\n",
      "accuracy       0.949239  0.949239  0.949239    0.949239\n",
      "macro avg      0.951275  0.948763  0.949132  197.000000\n",
      "weighted avg   0.950868  0.949239  0.949168  197.000000\n",
      "====================================================================================================\n",
      "Accuracy Score :   0.949238578680203\n",
      "====================================================================================================\n",
      "Cross Validation Score\n",
      "0.9262839635572039\n",
      "----------------------------------------------------------------------------------------------------\n",
      "\n",
      "\n",
      "\n",
      "----------------------------------------------------------------------------------------------------\n",
      "Random Forest Classifier\n",
      "----------------------------------------------------------------------------------------------------\n",
      "Classification Report\n",
      "              precision    recall  f1-score     support\n",
      "0              0.931373  0.950000  0.940594  100.000000\n",
      "1              0.947368  0.927835  0.937500   97.000000\n",
      "accuracy       0.939086  0.939086  0.939086    0.939086\n",
      "macro avg      0.939370  0.938918  0.939047  197.000000\n",
      "weighted avg   0.939249  0.939086  0.939071  197.000000\n",
      "====================================================================================================\n",
      "Accuracy Score :   0.9390862944162437\n",
      "====================================================================================================\n",
      "Cross Validation Score\n",
      "0.927549786342014\n",
      "----------------------------------------------------------------------------------------------------\n",
      "\n",
      "\n",
      "\n",
      "----------------------------------------------------------------------------------------------------\n",
      "Decision Tree Algorithm\n",
      "----------------------------------------------------------------------------------------------------\n",
      "Classification Report\n",
      "              precision    recall  f1-score     support\n",
      "0              0.900000  0.900000  0.900000  100.000000\n",
      "1              0.896907  0.896907  0.896907   97.000000\n",
      "accuracy       0.898477  0.898477  0.898477    0.898477\n",
      "macro avg      0.898454  0.898454  0.898454  197.000000\n",
      "weighted avg   0.898477  0.898477  0.898477  197.000000\n",
      "====================================================================================================\n",
      "Accuracy Score :   0.8984771573604061\n",
      "====================================================================================================\n",
      "Cross Validation Score\n",
      "0.9046359751672982\n",
      "----------------------------------------------------------------------------------------------------\n",
      "\n",
      "\n",
      "\n",
      "----------------------------------------------------------------------------------------------------\n",
      "KNN\n",
      "----------------------------------------------------------------------------------------------------\n",
      "Classification Report\n",
      "              precision    recall  f1-score     support\n",
      "0              0.913462  0.950000  0.931373  100.000000\n",
      "1              0.946237  0.907216  0.926316   97.000000\n",
      "accuracy       0.928934  0.928934  0.928934    0.928934\n",
      "macro avg      0.929849  0.928608  0.928844  197.000000\n",
      "weighted avg   0.929599  0.928934  0.928883  197.000000\n",
      "====================================================================================================\n",
      "Accuracy Score :   0.9289340101522843\n",
      "====================================================================================================\n",
      "Cross Validation Score\n",
      "0.9123034749657342\n",
      "----------------------------------------------------------------------------------------------------\n",
      "\n",
      "\n",
      "\n"
     ]
    }
   ],
   "source": [
    "model = ML_Models()\n",
    "\n",
    "model.train(classifiers,train_data =(X_train,Y_train),val_data=(X_test,Y_test))"
   ]
  },
  {
   "cell_type": "markdown",
   "metadata": {},
   "source": [
    "<h1> k. Plotting Learning Curves of Trained Models </h1>"
   ]
  },
  {
   "cell_type": "code",
   "execution_count": 28,
   "metadata": {},
   "outputs": [
    {
     "data": {
      "image/png": "[encoded data removed]",
      "text/plain": [
       "<Figure size 1440x1008 with 4 Axes>"
      ]
     },
     "metadata": {
      "needs_background": "light"
     },
     "output_type": "display_data"
    }
   ],
   "source": [
    "cv = ShuffleSplit(n_splits=100, test_size=0.2, random_state=42)\n",
    "\n",
    "model.plot_learning_curve(\n",
    "    estimator1=classifiers[\"Logistic Regression\"],\n",
    "    estimator2=classifiers[\"KNN\"],\n",
    "    estimator3=classifiers[\"Support Vector Machine\"],\n",
    "    estimator4=classifiers[\"Decision Tree Algorithm\"],\n",
    "    X=X_train,\n",
    "    y=Y_train,\n",
    "    ylim=(0.87, 1.01),\n",
    "    cv=cv,\n",
    "    n_jobs=4,\n",
    "    train_sizes=np.linspace(.1, 1.0, 5)\n",
    ")\n"
   ]
  },
  {
   "cell_type": "markdown",
   "metadata": {},
   "source": [
    "Therefore we observe that KNN is a bit overfitted then the other models and Logistic Regression performs the best."
   ]
  },
  {
   "cell_type": "markdown",
   "metadata": {},
   "source": [
    "<h1> l. ROC_AUC_SCORE </h1>"
   ]
  },
  {
   "cell_type": "code",
   "execution_count": 29,
   "metadata": {
    "tags": []
   },
   "outputs": [
    {
     "name": "stdout",
     "output_type": "stream",
     "text": [
      "Logistic Regression:  0.9251323947300439\n",
      "KNears Neighbors:  0.9137012399896667\n",
      "Support Vector Classifier:  0.926398217514854\n",
      "Decision Tree Classifier:  0.9150445621286489\n"
     ]
    }
   ],
   "source": [
    "model.roc_score(classifiers,X=X_train,Y=Y_train,cv=5,method='predict')"
   ]
  },
  {
   "cell_type": "markdown",
   "metadata": {},
   "source": [
    "<h1> m. Saving Training data and Testing data </h1>"
   ]
  },
  {
   "cell_type": "code",
   "execution_count": 30,
   "metadata": {},
   "outputs": [],
   "source": [
    "# Save Training and Testing data in pickle for Future Use\n",
    "model.pickleData(filename=\"X_train.pickle\",data=X_train)\n",
    "model.pickleData(filename=\"X_test.pickle\",data=X_test)"
   ]
  }
 ],
 "metadata": {
  "kernelspec": {
   "display_name": "Python 3",
   "language": "python",
   "name": "python3"
  },
  "language_info": {
   "codemirror_mode": {
    "name": "ipython",
    "version": 3
   },
   "file_extension": ".py",
   "mimetype": "text/x-python",
   "name": "python",
   "nbconvert_exporter": "python",
   "pygments_lexer": "ipython3",
   "version": "3.7.3"
  }
 },
 "nbformat": 4,
 "nbformat_minor": 4
}
